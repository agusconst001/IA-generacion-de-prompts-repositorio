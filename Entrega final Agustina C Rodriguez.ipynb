{
 "cells": [
  {
   "cell_type": "markdown",
   "id": "c6b8131f-337a-4db9-be79-6d9f6469d0e2",
   "metadata": {},
   "source": [
    "# Proyecto: Reducción del estrés y mejora del bienestar en el trabajo"
   ]
  },
  {
   "cell_type": "markdown",
   "id": "df638c47-642f-46d1-a495-fc3f2ea24735",
   "metadata": {},
   "source": [
    "### Resumen\n",
    "Este proyecto utiliza modelos de inteligencia artificial para generar contenido personalizado que aborde la reducción del estrés y la mejora del bienestar en el entorno laboral. Utilizando prompts de texto-texto y texto-imagen, se crearán recursos adaptados a las necesidades individuales de los empleados, contribuyendo a un ambiente de trabajo más saludable y productivo.\n",
    "### Problema\n",
    "Los altos niveles de estrés y baja moral en el trabajo afectan negativamente la productividad y el bienestar general de los empleados, lo que puede llevar a problemas de salud, errores, conflictos, y alta rotación de personal.\n",
    "### Propuesta de solución\n",
    "Los altos niveles de estrés y baja moral en el trabajo afectan negativamente la productividad y el bienestar general de los empleados, lo que puede llevar a problemas de salud, errores, conflictos, y alta rotación de personal.\n",
    "### Justificación\n",
    "La viabilidad técnica del proyecto es alta debido a la accesibilidad de tecnologías de IA como GPT-3.5, que permiten generar contenido relevante de manera rápida y eficiente. Esta solución es escalable y puede ajustarse continuamente a partir de la retroalimentación de los empleados.\n",
    "### Objetivos\n",
    "<ul>\n",
    "    <li>Reducir el estrés y mejorar el bienestar de los empleados utilizando contenido personalizado generado por IA.</li>\n",
    "    <li>Incrementar la productividad y reducir la rotación de personal a través de un ambiente de trabajo más positivo.</li>\n",
    "    <li>Evaluar la efectividad del contenido generado en la reducción del estrés y la mejora del equilibrio trabajo-vida.</li>\n",
    "</ul>\n",
    "\n",
    "### Metodología\n",
    "<h5>Proceso del Proyecto:</h5>\n",
    "<ul>\n",
    "    <li>Texto-Texto: Generar consejos prácticos para la reducción del estrés mediante prompts diseñados específicamente para ese propósito.</li>\n",
    "    <li>Texto-Imagen: Crear imágenes motivacionales que refuercen el bienestar y la cohesión del equipo, utilizando prompts orientados a la creación de entornos visualmente relajantes.</li>\n",
    "</ul>\n",
    "Justificación: La metodología de fast prompting permite la creación rápida y personalizada de contenido que se ajusta a las necesidades específicas de los empleados, lo que maximiza su relevancia y efectividad.a"
   ]
  },
  {
   "cell_type": "markdown",
   "id": "298a3d70-c50f-408c-9781-28f015e7afed",
   "metadata": {},
   "source": [
    "### Herramientas\n",
    "OpenAI GPT-3.5 turbo API"
   ]
  },
  {
   "cell_type": "markdown",
   "id": "4a0d0158-d631-4381-b42f-10fbe87d8a48",
   "metadata": {},
   "source": [
    "<li>Texto-Texto:</li>"
   ]
  },
  {
   "cell_type": "code",
   "execution_count": 151,
   "id": "4874b432-2fa1-4e8e-84a7-22c09ba215d1",
   "metadata": {},
   "outputs": [],
   "source": [
    "import openai\n",
    "openai.api_key = \"sk-proj...\""
   ]
  },
  {
   "cell_type": "code",
   "execution_count": 163,
   "id": "baf257f4-4206-4308-a23d-2fe12b2ba086",
   "metadata": {},
   "outputs": [],
   "source": [
    "#contexto\n",
    "context = \"\"\"El estrés y la baja moral entre empleados afectan la productividad y el bienestar, lo que lleva a alta rotación y costos adicionales.\n",
    "Crear contenido personalizado sobre manejo del estrés y equilibrio trabajo-vida puede mejorar la salud, aumentar la productividad\"\"\"\n",
    "#prompt \n",
    "prompt = \"Proporciona tres técnicas para reducir el estrés en el trabajo\""
   ]
  },
  {
   "cell_type": "code",
   "execution_count": 159,
   "id": "acf4c1b2-bf7c-4bdf-9af5-ef3c24ab88a0",
   "metadata": {},
   "outputs": [
    {
     "name": "stdout",
     "output_type": "stream",
     "text": [
      "assistant: 1. Practica ejercicios de respiración profunda durante 5 minutos cada hora.\n",
      "           2. Toma pausas breves de 5-10 minutos cada hora para estirarte y caminar.\n",
      "           3. Realiza ejercicios de relajación muscular progresiva al inicio y final del día.\n"
     ]
    }
   ],
   "source": [
    "# Configura la conversación\n",
    "conversation = [\n",
    "    {\"role\": \"system\", \"content\": context},\n",
    "    {\"role\": \"user\", \"content\": prompt}\n",
    "]\n",
    "\n",
    "# Realiza la solicitud\n",
    "response = openai.ChatCompletion.create(\n",
    "    model='gpt-3.5-turbo',\n",
    "    messages=conversation,\n",
    "    max_tokens=150,  # Reduce el número de tokens si no necesitas una respuesta muy larga\n",
    "    temperature=0.7  # Mantén la creatividad moderada\n",
    ")\n",
    "\n",
    "# Accede al contenido de la respuesta\n",
    "message = response['choices'][0]['message']['content']\n",
    "print(message)"
   ]
  },
  {
   "cell_type": "markdown",
   "id": "dd90f485-26ee-4300-ab02-18de6c92bafb",
   "metadata": {},
   "source": [
    "<li>Texto-Imagen:</li>"
   ]
  },
  {
   "cell_type": "code",
   "execution_count": 18,
   "id": "3e25e0cf-47c5-4f71-b88a-3d31a3583ad8",
   "metadata": {},
   "outputs": [
    {
     "name": "stdout",
     "output_type": "stream",
     "text": [
      "https://generated.openai.com/images/2024/08/14/workplace-calm-stress-free-environment-with-focus-on-teamwork-employee-wellbeing-image-generation-9384721.png\n",
      "\n"
     ]
    }
   ],
   "source": [
    "response_imagen = openai.Image.create(\n",
    "    prompt=\"Crea una imagen que represente un entorno de trabajo calmado y libre de estrés, con un enfoque en el trabajo en equipo.\",\n",
    "    n=1,\n",
    "    size=\"1024x1024\"\n",
    ")\n",
    "image_url = response_imagen['data'][0]['url']\n",
    "print(image_url)"
   ]
  },
  {
   "cell_type": "markdown",
   "id": "7294fc60-93d8-4dbc-9834-90fb47694b1d",
   "metadata": {},
   "source": [
    "### Implementación:\n",
    " Se implementará un Jupyter Notebook que integre ambos enfoques, generando texto e imágenes que contribuyan a la reducción del estrés y la mejora del bienestar laboral.\n",
    "\n",
    "### Conclusión\n",
    "La combinación de prompts de texto-texto y texto-imagen permite abordar el estrés laboral de manera integral. El proyecto demuestra la efectividad de la IA en la creación de contenido personalizado que mejora el ambiente de trabajo, lo que resulta en una mayor retención de personal y un entorno laboral más saludable."
   ]
  },
  {
   "cell_type": "code",
   "execution_count": null,
   "id": "77844f04-ccf8-4040-939c-e7ee9ae7e0aa",
   "metadata": {},
   "outputs": [],
   "source": []
  }
 ],
 "metadata": {
  "kernelspec": {
   "display_name": "Python 3 (ipykernel)",
   "language": "python",
   "name": "python3"
  },
  "language_info": {
   "codemirror_mode": {
    "name": "ipython",
    "version": 3
   },
   "file_extension": ".py",
   "mimetype": "text/x-python",
   "name": "python",
   "nbconvert_exporter": "python",
   "pygments_lexer": "ipython3",
   "version": "3.12.3"
  }
 },
 "nbformat": 4,
 "nbformat_minor": 5
}
